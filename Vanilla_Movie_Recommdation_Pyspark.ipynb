{
 "cells": [
  {
   "cell_type": "markdown",
   "metadata": {},
   "source": [
    "# Movie Recommender\n",
    "\n",
    "In this notebook, you will learn how to use PySpark to make personalized movie recommendations using the [Movielens](https://grouplens.org/datasets/movielens/) data."
   ]
  },
  {
   "cell_type": "markdown",
   "metadata": {},
   "source": [
    "![Spark Logo](http://spark-mooc.github.io/web-assets/images/ta_Spark-logo-small.png) ![Python Logo](http://spark-mooc.github.io/web-assets/images/python-logo-master-v3-TM-flattened_small.png)"
   ]
  },
  {
   "cell_type": "markdown",
   "metadata": {},
   "source": [
    "## Data processing"
   ]
  },
  {
   "cell_type": "code",
   "execution_count": 2,
   "metadata": {
    "collapsed": true
   },
   "outputs": [],
   "source": [
    "import os\n",
    "import urllib.request\n",
    "import zipfile\n",
    "import numpy as np"
   ]
  },
  {
   "cell_type": "code",
   "execution_count": 3,
   "metadata": {
    "collapsed": true
   },
   "outputs": [],
   "source": [
    "# Small dataset\n",
    "# 100,000 ratings and 1,300 tag applications applied to 9,000 movies by 700 users. \n",
    "# Last updated 10/2016.\n",
    "dataset_url = 'http://files.grouplens.org/datasets/movielens/ml-latest-small.zip'"
   ]
  },
  {
   "cell_type": "code",
   "execution_count": 4,
   "metadata": {
    "collapsed": false
   },
   "outputs": [],
   "source": [
    "datasets_path = '/Users/Honglei/Desktop/'\n",
    "small_dataset_path = os.path.join(datasets_path, 'ml-latest-small.zip')\n",
    "small_f = urllib.request.urlretrieve (dataset_url, small_dataset_path)"
   ]
  },
  {
   "cell_type": "code",
   "execution_count": 5,
   "metadata": {
    "collapsed": false
   },
   "outputs": [],
   "source": [
    "with zipfile.ZipFile(small_dataset_path, \"r\") as z:\n",
    "    z.extractall(datasets_path)"
   ]
  },
  {
   "cell_type": "markdown",
   "metadata": {},
   "source": [
    "## Parsing data"
   ]
  },
  {
   "cell_type": "code",
   "execution_count": 6,
   "metadata": {
    "collapsed": false
   },
   "outputs": [],
   "source": [
    "small_ratings_file = os.path.join(datasets_path, 'ml-latest-small', 'ratings.csv')"
   ]
  },
  {
   "cell_type": "code",
   "execution_count": 7,
   "metadata": {
    "collapsed": true
   },
   "outputs": [],
   "source": [
    "# import PySpark modules\n",
    "import findspark\n",
    "findspark.init()\n",
    "\n",
    "from pyspark.ml.feature import StringIndexer\n",
    "from pyspark.sql import SparkSession\n",
    "from pyspark.sql.types import *\n",
    "from pyspark.sql.functions import *\n",
    "from pyspark.ml.evaluation import RegressionEvaluator\n",
    "\n",
    "from pyspark.ml.recommendation import ALS\n",
    "#from pyspark.mllib.recommendation import ALS (different!)\n",
    "\n",
    "from pyspark.sql import functions as F"
   ]
  },
  {
   "cell_type": "markdown",
   "metadata": {},
   "source": [
    "### RDD"
   ]
  },
  {
   "cell_type": "code",
   "execution_count": 8,
   "metadata": {
    "collapsed": false
   },
   "outputs": [
    {
     "name": "stdout",
     "output_type": "stream",
     "text": [
      "Welcome to\r\n",
      "      ____              __\r\n",
      "     / __/__  ___ _____/ /__\r\n",
      "    _\\ \\/ _ \\/ _ `/ __/  '_/\r\n",
      "   /___/ .__/\\_,_/_/ /_/\\_\\   version 2.2.0\r\n",
      "      /_/\r\n",
      "                        \r\n",
      "Using Scala version 2.11.8, Java HotSpot(TM) 64-Bit Server VM, 1.8.0_144\r\n",
      "Branch \r\n",
      "Compiled by user jenkins on 2017-06-30T22:58:04Z\r\n",
      "Revision \r\n",
      "Url \r\n",
      "Type --help for more information.\r\n"
     ]
    }
   ],
   "source": [
    "!pyspark --version"
   ]
  },
  {
   "cell_type": "code",
   "execution_count": 9,
   "metadata": {
    "collapsed": true
   },
   "outputs": [],
   "source": [
    "spark = SparkSession \\\n",
    "    .builder \\\n",
    "    .appName(\"Movie recommendation\") \\\n",
    "    .getOrCreate()\n",
    "    \n",
    "\n",
    "ratings_df = spark.read.option(\"header\", \"true\").csv(small_ratings_file)"
   ]
  },
  {
   "cell_type": "markdown",
   "metadata": {},
   "source": [
    "### check the first 3 rows"
   ]
  },
  {
   "cell_type": "code",
   "execution_count": 10,
   "metadata": {
    "collapsed": false
   },
   "outputs": [
    {
     "name": "stdout",
     "output_type": "stream",
     "text": [
      "+------+-------+------+----------+\n",
      "|userId|movieId|rating| timestamp|\n",
      "+------+-------+------+----------+\n",
      "|     1|     31|   2.5|1260759144|\n",
      "|     1|   1029|   3.0|1260759179|\n",
      "|     1|   1061|   3.0|1260759182|\n",
      "+------+-------+------+----------+\n",
      "only showing top 3 rows\n",
      "\n"
     ]
    }
   ],
   "source": [
    "ratings_df.show(3)"
   ]
  },
  {
   "cell_type": "markdown",
   "metadata": {},
   "source": [
    "### select columns "
   ]
  },
  {
   "cell_type": "code",
   "execution_count": 11,
   "metadata": {
    "collapsed": false
   },
   "outputs": [],
   "source": [
    "ratings_df = ratings_df.select(col(\"userId\"), col(\"movieId\"), col(\"rating\"))"
   ]
  },
  {
   "cell_type": "code",
   "execution_count": 12,
   "metadata": {
    "collapsed": false
   },
   "outputs": [
    {
     "name": "stdout",
     "output_type": "stream",
     "text": [
      "StructType(List(StructField(userId,StringType,true),StructField(movieId,StringType,true),StructField(rating,StringType,true)))\n"
     ]
    }
   ],
   "source": [
    "print(ratings_df.schema)"
   ]
  },
  {
   "cell_type": "markdown",
   "metadata": {},
   "source": [
    "### filter out movies with very few (`<`10) reviews"
   ]
  },
  {
   "cell_type": "code",
   "execution_count": 13,
   "metadata": {
    "collapsed": false
   },
   "outputs": [
    {
     "name": "stdout",
     "output_type": "stream",
     "text": [
      "+-------+-----+------------------+\n",
      "|movieId|count|           average|\n",
      "+-------+-----+------------------+\n",
      "|   2294|   53|3.2735849056603774|\n",
      "|    296|  324| 4.256172839506172|\n",
      "|   3210|   52|3.6153846153846154|\n",
      "+-------+-----+------------------+\n",
      "only showing top 3 rows\n",
      "\n"
     ]
    }
   ],
   "source": [
    "movie_ids_with_avg_ratings_df = ratings_df.groupBy('movieId').\\\n",
    "                agg(F.count(ratings_df.rating).alias(\"count\"), F.avg(ratings_df.rating).alias(\"average\"))\n",
    "    \n",
    "movie_ids_with_avg_ratings_df.show(3)"
   ]
  },
  {
   "cell_type": "code",
   "execution_count": 14,
   "metadata": {
    "collapsed": false
   },
   "outputs": [
    {
     "name": "stdout",
     "output_type": "stream",
     "text": [
      "Movies with top 5 highest ratings:\n",
      "+-------+-----+-----------------+\n",
      "|movieId|count|average          |\n",
      "+-------+-----+-----------------+\n",
      "|1939   |11   |4.636363636363637|\n",
      "|3469   |12   |4.541666666666667|\n",
      "|858    |200  |4.4875           |\n",
      "|318    |311  |4.487138263665595|\n",
      "|1948   |12   |4.458333333333333|\n",
      "+-------+-----+-----------------+\n",
      "only showing top 5 rows\n",
      "\n"
     ]
    }
   ],
   "source": [
    "movies_with_10_ratings_or_more = movie_ids_with_avg_ratings_df.filter(\"count>=10\")\n",
    "movies_with_10_ratings_or_more = movies_with_10_ratings_or_more.sort(movies_with_10_ratings_or_more.average, ascending = False)\n",
    "print ('Movies with top 5 highest ratings:')\n",
    "\n",
    "movies_with_10_ratings_or_more.show(5, truncate = False) "
   ]
  },
  {
   "cell_type": "code",
   "execution_count": 15,
   "metadata": {
    "collapsed": false
   },
   "outputs": [],
   "source": [
    "# merge with ratings_df\n",
    "ratings_df = movies_with_10_ratings_or_more.join(ratings_df, \"movieId\", \"inner\")"
   ]
  },
  {
   "cell_type": "code",
   "execution_count": 16,
   "metadata": {
    "collapsed": false
   },
   "outputs": [
    {
     "name": "stdout",
     "output_type": "stream",
     "text": [
      "+-------+-----+-----------------+------+------+\n",
      "|movieId|count|          average|userId|rating|\n",
      "+-------+-----+-----------------+------+------+\n",
      "|   1939|   11|4.636363636363637|   547|   5.0|\n",
      "|   1939|   11|4.636363636363637|   505|   3.0|\n",
      "|   1939|   11|4.636363636363637|   468|   3.0|\n",
      "+-------+-----+-----------------+------+------+\n",
      "only showing top 3 rows\n",
      "\n"
     ]
    }
   ],
   "source": [
    "ratings_df.show(3)"
   ]
  },
  {
   "cell_type": "code",
   "execution_count": 17,
   "metadata": {
    "collapsed": false
   },
   "outputs": [],
   "source": [
    "ratings_df = ratings_df.select(col(\"userId\"), col(\"movieId\"), col(\"rating\"))"
   ]
  },
  {
   "cell_type": "markdown",
   "metadata": {
    "collapsed": true
   },
   "source": [
    "### need to change `rating`'s type to `Double`"
   ]
  },
  {
   "cell_type": "code",
   "execution_count": 18,
   "metadata": {
    "collapsed": true
   },
   "outputs": [],
   "source": [
    "ratings_df = ratings_df.withColumn(\"rating\", ratings_df[\"rating\"].cast(DoubleType()))\n",
    "ratings_df = ratings_df.withColumn(\"movieId\", ratings_df[\"movieId\"].cast(DoubleType()))\n",
    "ratings_df = ratings_df.withColumn(\"userId\", ratings_df[\"userId\"].cast(DoubleType()))"
   ]
  },
  {
   "cell_type": "markdown",
   "metadata": {},
   "source": [
    "### cache the rating dataframe"
   ]
  },
  {
   "cell_type": "code",
   "execution_count": 19,
   "metadata": {
    "collapsed": true
   },
   "outputs": [],
   "source": [
    "ratings_df.cache()\n",
    "assert ratings_df.is_cached"
   ]
  },
  {
   "cell_type": "markdown",
   "metadata": {},
   "source": [
    "### split data into training, validation and testing"
   ]
  },
  {
   "cell_type": "code",
   "execution_count": 20,
   "metadata": {
    "collapsed": true
   },
   "outputs": [],
   "source": [
    "# hold out 60% for training, 20% for validation, and leave 20% for testing\n",
    "seed = 2017\n",
    "(split_60_df, split_a_20_df, split_b_20_df) = ratings_df.randomSplit([0.6,0.2,0.2], seed)\n",
    "\n",
    "# cache these datasets for performance\n",
    "training_df = split_60_df.cache()\n",
    "validation_df = split_a_20_df.cache()\n",
    "test_df = split_b_20_df.cache()"
   ]
  },
  {
   "cell_type": "markdown",
   "metadata": {},
   "source": [
    "### print how many rows in training, validation and testing dataset"
   ]
  },
  {
   "cell_type": "code",
   "execution_count": 21,
   "metadata": {
    "collapsed": false
   },
   "outputs": [
    {
     "name": "stdout",
     "output_type": "stream",
     "text": [
      "Training: 48985, validation: 16603, test: 16327\n",
      "\n"
     ]
    }
   ],
   "source": [
    "print('Training: {0}, validation: {1}, test: {2}\\n'.format(training_df.count(), \\\n",
    "                                                           validation_df.count(), \\\n",
    "                                                           test_df.count()))"
   ]
  },
  {
   "cell_type": "markdown",
   "metadata": {},
   "source": [
    "## Baseline Model"
   ]
  },
  {
   "cell_type": "code",
   "execution_count": 22,
   "metadata": {
    "collapsed": true
   },
   "outputs": [],
   "source": [
    "# RMSE evaluator using the label and predicted columns\n",
    "reg_eval = RegressionEvaluator(predictionCol = \"prediction\", labelCol = \"rating\", metricName = \"rmse\")"
   ]
  },
  {
   "cell_type": "code",
   "execution_count": 23,
   "metadata": {
    "collapsed": false
   },
   "outputs": [
    {
     "name": "stdout",
     "output_type": "stream",
     "text": [
      "The average rating for movies in the training set is 3.607604368684291\n"
     ]
    }
   ],
   "source": [
    "training_avg_rating = training_df.agg(avg(training_df.rating)).collect()[0][0]\n",
    "print('The average rating for movies in the training set is {0}'.format(training_avg_rating))\n",
    "\n",
    "# add a column with the average rating\n",
    "test_for_avg_df = test_df.withColumn('prediction', F.lit(training_avg_rating))"
   ]
  },
  {
   "cell_type": "code",
   "execution_count": 25,
   "metadata": {
    "collapsed": false
   },
   "outputs": [
    {
     "name": "stdout",
     "output_type": "stream",
     "text": [
      "The baseline RMSE is 1.0321943115352572\n"
     ]
    }
   ],
   "source": [
    "# get RMSE\n",
    "test_avg_RMSE = reg_eval.evaluate(test_for_avg_df)\n",
    "print(\"The baseline RMSE is {0}\".format(test_avg_RMSE))"
   ]
  },
  {
   "cell_type": "markdown",
   "metadata": {},
   "source": [
    "## Collaborative Filtering\n",
    "\n",
    "<img src=\"https://courses.edx.org/c4x/BerkeleyX/CS100.1x/asset/Collaborative_filtering.gif\" alt=\"collaborative filtering\" style=\"float: right\"/>\n",
    "At first, people rate different items (like videos, images, games). After that, the system is making predictions about a user's rating for an item, which the user has not rated yet. These predictions are built upon the existing ratings of other users, who have similar ratings with the active user. For instance, in the image below the system has made a prediction, that the active user will not like the video.\n",
    "\n",
    "<br clear=\"all\"/>\n",
    "\n",
    "----\n",
    "\n",
    "\n",
    "<img alt=\"factorization\" src=\"http://spark-mooc.github.io/web-assets/images/matrix_factorization.png\" style=\"width: 885px\"/>\n",
    "<br clear=\"all\"/>\n",
    "\n",
    "Spark provides a Collaborative Filtering implementation by using **Alternating Least Squares**. The implementation has the following parameters:\n",
    "\n",
    "- `rank` is the number of latent factors in the model.\n",
    "- `iterations` is the number of iterations to run.\n",
    "- `regParam` specifies the regularization parameter in ALS.\n",
    "\n",
    "\n",
    "[als]: https://en.wikiversity.org/wiki/Least-Squares_Method\n",
    "[mllib]: http://spark.apache.org/docs/latest/mllib-guide.html\n",
    "[collab]: https://en.wikipedia.org/?title=Collaborative_filtering\n",
    "[collab2]: http://recommender-systems.org/collaborative-filtering/"
   ]
  },
  {
   "cell_type": "markdown",
   "metadata": {},
   "source": [
    "### *[PySpark](http://spark.apache.org/docs/2.2.0/api/python/pyspark.ml.html?highlight=als#pyspark.ml.recommendation.ALS)*\n",
    "`class pyspark.ml.recommendation.ALS(self, \n",
    "rank=10, maxIter=10, regParam=0.1, numUserBlocks=10, numItemBlocks=10, \n",
    "implicitPrefs=false, alpha=1.0, userCol=\"user\", itemCol=\"item\", seed=None, \n",
    "ratingCol=\"rating\", nonnegative=false, checkpointInterval=10, \n",
    "intermediateStorageLevel=\"MEMORY_AND_DISK\", finalStorageLevel=\"MEMORY_AND_DISK\", \n",
    "coldStartStrategy=\"nan\")`"
   ]
  },
  {
   "cell_type": "code",
   "execution_count": 26,
   "metadata": {
    "collapsed": false
   },
   "outputs": [],
   "source": [
    "def train_ALS(rank, maxit, reg, train_df, test_df, seed = 2017):\n",
    "    als = ALS(maxIter = maxit, \n",
    "              regParam = reg,\n",
    "              rank = rank,\n",
    "              userCol = \"userId\", \n",
    "              itemCol = \"movieId\", \n",
    "              ratingCol = \"rating\",\n",
    "              coldStartStrategy = \"drop\")\n",
    "    \n",
    "    # set the parameters for the method\n",
    "    als.setSeed(seed)\n",
    "    \n",
    "    # Create the model with these parameters.\n",
    "    model = als.fit(train_df)\n",
    "    # Run the model to create a prediction. Predict against the validation_df.\n",
    "    predict_df = model.transform(test_df)\n",
    "    error = reg_eval.evaluate(predict_df)\n",
    "    # In-sample error\n",
    "    predict_in_df = model.transform(train_df)\n",
    "    in_error = reg_eval.evaluate(predict_in_df) \n",
    "    \n",
    "    # print \n",
    "    print (\"Using number of ranks = \", rank)\n",
    "    print (\"Using number of iterations = \", maxit)\n",
    "    print (\"Using Reg para = \", reg)\n",
    "    print (\"Training dataset RMSE = \", in_error, '\\n')\n",
    "    print (\"Validation dataset RMSE = \", error, '\\n')\n",
    "    return(error)"
   ]
  },
  {
   "cell_type": "code",
   "execution_count": 27,
   "metadata": {
    "collapsed": true
   },
   "outputs": [],
   "source": [
    "#predicted_ratings_df = predict_df.filter(predict_df.prediction != float('nan'))"
   ]
  },
  {
   "cell_type": "markdown",
   "metadata": {},
   "source": [
    "## Parameters grid search"
   ]
  },
  {
   "cell_type": "code",
   "execution_count": 28,
   "metadata": {
    "collapsed": false
   },
   "outputs": [
    {
     "name": "stdout",
     "output_type": "stream",
     "text": [
      "Using number of ranks =  2\n",
      "Using number of iterations =  5\n",
      "Using Reg para =  0.05\n",
      "Training dataset RMSE =  0.7625177224763114 \n",
      "\n",
      "Validation dataset RMSE =  0.8951757528553103 \n",
      "\n",
      "Using number of ranks =  2\n",
      "Using number of iterations =  5\n",
      "Using Reg para =  0.1\n",
      "Training dataset RMSE =  0.7739964699942851 \n",
      "\n",
      "Validation dataset RMSE =  0.8882196692614659 \n",
      "\n",
      "Using number of ranks =  2\n",
      "Using number of iterations =  5\n",
      "Using Reg para =  0.15\n",
      "Training dataset RMSE =  0.7916275577953994 \n",
      "\n",
      "Validation dataset RMSE =  0.891349598089707 \n",
      "\n",
      "Using number of ranks =  2\n",
      "Using number of iterations =  5\n",
      "Using Reg para =  0.2\n",
      "Training dataset RMSE =  0.8139607773959153 \n",
      "\n",
      "Validation dataset RMSE =  0.9008125854459965 \n",
      "\n",
      "Using number of ranks =  2\n",
      "Using number of iterations =  5\n",
      "Using Reg para =  0.25\n",
      "Training dataset RMSE =  0.839648725554191 \n",
      "\n",
      "Validation dataset RMSE =  0.9149382103091684 \n",
      "\n",
      "Using number of ranks =  2\n",
      "Using number of iterations =  10\n",
      "Using Reg para =  0.05\n",
      "Training dataset RMSE =  0.759673483451366 \n",
      "\n",
      "Validation dataset RMSE =  0.8966449792525611 \n",
      "\n",
      "Using number of ranks =  2\n",
      "Using number of iterations =  10\n",
      "Using Reg para =  0.1\n",
      "Training dataset RMSE =  0.7710646367494762 \n",
      "\n",
      "Validation dataset RMSE =  0.8866086889633757 \n",
      "\n",
      "Using number of ranks =  2\n",
      "Using number of iterations =  10\n",
      "Using Reg para =  0.15\n",
      "Training dataset RMSE =  0.7871601344391107 \n",
      "\n",
      "Validation dataset RMSE =  0.8885003111997822 \n",
      "\n",
      "Using number of ranks =  2\n",
      "Using number of iterations =  10\n",
      "Using Reg para =  0.2\n",
      "Training dataset RMSE =  0.8074390093301662 \n",
      "\n",
      "Validation dataset RMSE =  0.8964860371077196 \n",
      "\n",
      "Using number of ranks =  2\n",
      "Using number of iterations =  10\n",
      "Using Reg para =  0.25\n",
      "Training dataset RMSE =  0.8314237342468123 \n",
      "\n",
      "Validation dataset RMSE =  0.9094312784224453 \n",
      "\n",
      "Using number of ranks =  4\n",
      "Using number of iterations =  5\n",
      "Using Reg para =  0.05\n",
      "Training dataset RMSE =  0.6915997484062963 \n",
      "\n",
      "Validation dataset RMSE =  0.9414958991251268 \n",
      "\n",
      "Using number of ranks =  4\n",
      "Using number of iterations =  5\n",
      "Using Reg para =  0.1\n",
      "Training dataset RMSE =  0.7125501334117748 \n",
      "\n",
      "Validation dataset RMSE =  0.9042089098816245 \n",
      "\n",
      "Using number of ranks =  4\n",
      "Using number of iterations =  5\n",
      "Using Reg para =  0.15\n",
      "Training dataset RMSE =  0.7444555309183027 \n",
      "\n",
      "Validation dataset RMSE =  0.8927973344841117 \n",
      "\n",
      "Using number of ranks =  4\n",
      "Using number of iterations =  5\n",
      "Using Reg para =  0.2\n",
      "Training dataset RMSE =  0.7837193030195967 \n",
      "\n",
      "Validation dataset RMSE =  0.8968057944966227 \n",
      "\n",
      "Using number of ranks =  4\n",
      "Using number of iterations =  5\n",
      "Using Reg para =  0.25\n",
      "Training dataset RMSE =  0.8233016710656755 \n",
      "\n",
      "Validation dataset RMSE =  0.9099488554427565 \n",
      "\n",
      "Using number of ranks =  4\n",
      "Using number of iterations =  10\n",
      "Using Reg para =  0.05\n",
      "Training dataset RMSE =  0.6754359671935047 \n",
      "\n",
      "Validation dataset RMSE =  0.9379039873534579 \n",
      "\n",
      "Using number of ranks =  4\n",
      "Using number of iterations =  10\n",
      "Using Reg para =  0.1\n",
      "Training dataset RMSE =  0.6994828200065425 \n",
      "\n",
      "Validation dataset RMSE =  0.8999443533550792 \n",
      "\n",
      "Using number of ranks =  4\n",
      "Using number of iterations =  10\n",
      "Using Reg para =  0.15\n",
      "Training dataset RMSE =  0.7332193894515461 \n",
      "\n",
      "Validation dataset RMSE =  0.8885841419325646 \n",
      "\n",
      "Using number of ranks =  4\n",
      "Using number of iterations =  10\n",
      "Using Reg para =  0.2\n",
      "Training dataset RMSE =  0.772774259761078 \n",
      "\n",
      "Validation dataset RMSE =  0.8932247413489187 \n",
      "\n",
      "Using number of ranks =  4\n",
      "Using number of iterations =  10\n",
      "Using Reg para =  0.25\n",
      "Training dataset RMSE =  0.8151366860013636 \n",
      "\n",
      "Validation dataset RMSE =  0.9069911683643348 \n",
      "\n"
     ]
    }
   ],
   "source": [
    "numIterations = [5, 10]\n",
    "ranks = [2, 4]\n",
    "regs = list(np.arange(0.05, 0.3, 0.05))\n",
    "\n",
    "RMSE_results = []\n",
    "\n",
    "for rank in ranks:\n",
    "    for maxit in numIterations:\n",
    "        for reg in regs:\n",
    "            RMSE_results.append(train_ALS(rank = rank, maxit = maxit, reg = reg, \\\n",
    "                                          train_df = training_df, test_df = validation_df))"
   ]
  },
  {
   "cell_type": "code",
   "execution_count": 30,
   "metadata": {
    "collapsed": false
   },
   "outputs": [
    {
     "data": {
      "image/png": "[encoded data removed]",
      "text/plain": [
       "<matplotlib.figure.Figure at 0x10ac64f28>"
      ]
     },
     "metadata": {},
     "output_type": "display_data"
    }
   ],
   "source": [
    "import matplotlib.pyplot as plt\n",
    "%matplotlib inline\n",
    "\n",
    "plt.plot(RMSE_results);"
   ]
  },
  {
   "cell_type": "markdown",
   "metadata": {},
   "source": [
    "### Train with the optimal parameters and test on the testing dataset"
   ]
  },
  {
   "cell_type": "code",
   "execution_count": 31,
   "metadata": {
    "collapsed": false
   },
   "outputs": [
    {
     "name": "stdout",
     "output_type": "stream",
     "text": [
      "Using number of ranks =  2\n",
      "Using number of iterations =  10\n",
      "Using Reg para =  0.1\n",
      "Training dataset RMSE =  0.7710646367494762 \n",
      "\n",
      "Validation dataset RMSE =  0.8709988822513952 \n",
      "\n",
      "The ALS RMSE is 0.8709988822513952\n"
     ]
    }
   ],
   "source": [
    "#from pyspark.ml.recommendation import ALS\n",
    "test_error = train_ALS(rank = 2, maxit = 10, reg = 0.1,\\\n",
    "                       train_df = training_df, test_df = test_df)\n",
    "print(\"The ALS RMSE is {0}\".format(test_error))"
   ]
  },
  {
   "cell_type": "markdown",
   "metadata": {},
   "source": [
    "## Recommend myself some movies, go!"
   ]
  },
  {
   "cell_type": "code",
   "execution_count": 32,
   "metadata": {
    "collapsed": true
   },
   "outputs": [],
   "source": [
    "movies_file = os.path.join(datasets_path, 'ml-latest-small', 'movies.csv')"
   ]
  },
  {
   "cell_type": "code",
   "execution_count": 33,
   "metadata": {
    "collapsed": false
   },
   "outputs": [
    {
     "name": "stdout",
     "output_type": "stream",
     "text": [
      "+-------+--------------------+--------------------+\n",
      "|movieId|               title|              genres|\n",
      "+-------+--------------------+--------------------+\n",
      "|      1|    Toy Story (1995)|Adventure|Animati...|\n",
      "|      2|      Jumanji (1995)|Adventure|Childre...|\n",
      "|      3|Grumpier Old Men ...|      Comedy|Romance|\n",
      "+-------+--------------------+--------------------+\n",
      "only showing top 3 rows\n",
      "\n"
     ]
    }
   ],
   "source": [
    "movies = spark.read.option(\"header\", \"true\").csv(movies_file)\n",
    "movies.show(3)"
   ]
  },
  {
   "cell_type": "code",
   "execution_count": 34,
   "metadata": {
    "collapsed": false
   },
   "outputs": [
    {
     "name": "stdout",
     "output_type": "stream",
     "text": [
      "There are 9125 movies in the small dataset\n"
     ]
    }
   ],
   "source": [
    "movies_titles = movies.rdd.map(lambda x: (int(x[0]),x[1]))\n",
    "print (\"There are %s movies in the small dataset\" % (movies_titles.count()))"
   ]
  },
  {
   "cell_type": "code",
   "execution_count": 35,
   "metadata": {
    "collapsed": false
   },
   "outputs": [],
   "source": [
    "movies_df = movies.drop('genres').withColumnRenamed('movieId', 'ID')"
   ]
  },
  {
   "cell_type": "markdown",
   "metadata": {},
   "source": [
    "### find the movie ID based on names"
   ]
  },
  {
   "cell_type": "code",
   "execution_count": 36,
   "metadata": {
    "collapsed": false
   },
   "outputs": [
    {
     "name": "stdout",
     "output_type": "stream",
     "text": [
      "+------+--------------------+\n",
      "|    ID|               title|\n",
      "+------+--------------------+\n",
      "|    40|Cry, the Beloved ...|\n",
      "|   249|Immortal Beloved ...|\n",
      "|   750|Dr. Strangelove o...|\n",
      "|  2314|      Beloved (1998)|\n",
      "|  6433|Man with the Movi...|\n",
      "|  6757|   Demonlover (2002)|\n",
      "| 57368|  Cloverfield (2008)|\n",
      "|152077|10 Cloverfield La...|\n",
      "+------+--------------------+\n",
      "\n"
     ]
    }
   ],
   "source": [
    "my_movies = movies_df.filter(\"title like '%love%'\")\n",
    "my_movies.show()"
   ]
  },
  {
   "cell_type": "markdown",
   "metadata": {},
   "source": [
    "Now I need to rate some movies for the myself. Let's use the user ID 0 for me as this is not assigned in the MovieLens dataset."
   ]
  },
  {
   "cell_type": "markdown",
   "metadata": {},
   "source": [
    "### Give some ratings"
   ]
  },
  {
   "cell_type": "code",
   "execution_count": 37,
   "metadata": {
    "collapsed": false
   },
   "outputs": [],
   "source": [
    "from pyspark.sql import Row\n",
    "my_user_id = 0\n",
    "\n",
    "\n",
    "# The format of each line is (userId, movieId, rating), rating scale is 0-5\n",
    "my_ratings = [\n",
    "     (0,260,1), # Star Wars (1977)\n",
    "     (0,60950,5), # Vicky Cristina Barcelona (2008)\n",
    "     (0,79132,5), # Inception (2010)\n",
    "     (0,86882,5), # Midnight in Paris (2011)\n",
    "     (0,318,5), # Shawshank Redemption, The (1994)\n",
    "     (0,215,5), # Before Sunrise (1995)\n",
    "     (0,8638,5), # Before Sunset (2004)\n",
    "     (0,296,4), # Pulp Fiction (1994)\n",
    "     (0,858,4) , # Godfather, The (1972)\n",
    "     (0,33645,5), # Carol (2015)\n",
    "     (0,4993,1), # Lord of the Rings: The Fellowship of the Ring, The (2001)\n",
    "     (0, 995,4) # Beautiful Mind, A (2001)\n",
    "    ]"
   ]
  },
  {
   "cell_type": "code",
   "execution_count": 38,
   "metadata": {
    "collapsed": false
   },
   "outputs": [
    {
     "name": "stdout",
     "output_type": "stream",
     "text": [
      "My movie ratings:\n",
      "+------+-------+------+\n",
      "|userId|movieId|rating|\n",
      "+------+-------+------+\n",
      "|     0|    260|     1|\n",
      "|     0|  60950|     5|\n",
      "|     0|  79132|     5|\n",
      "|     0|  86882|     5|\n",
      "|     0|    318|     5|\n",
      "|     0|    215|     5|\n",
      "|     0|   8638|     5|\n",
      "|     0|    296|     4|\n",
      "|     0|    858|     4|\n",
      "|     0|  33645|     5|\n",
      "|     0|   4993|     1|\n",
      "|     0|    995|     4|\n",
      "+------+-------+------+\n",
      "\n"
     ]
    }
   ],
   "source": [
    "my_ratings_df = spark.createDataFrame(my_ratings, ['userId','movieId','rating'])\n",
    "print ('My movie ratings:')\n",
    "my_ratings_df.show()"
   ]
  },
  {
   "cell_type": "markdown",
   "metadata": {},
   "source": [
    "### Movies that I rated 5"
   ]
  },
  {
   "cell_type": "markdown",
   "metadata": {},
   "source": [
    "![](files/sunrise.jpg)\n",
    "![](files/sunset.jpeg)\n",
    "![](files/Midnight.jpg)\n",
    "![](files/download.jpg)\n",
    "![](files/carol.jpg)"
   ]
  },
  {
   "cell_type": "markdown",
   "metadata": {},
   "source": [
    "### Movies that I rated 1"
   ]
  },
  {
   "cell_type": "markdown",
   "metadata": {},
   "source": [
    "![](files/The_Lord.jpg)\n",
    "![](files/star.jpeg)"
   ]
  },
  {
   "cell_type": "markdown",
   "metadata": {},
   "source": [
    "### add my ratings to the training dataset so that the model will incorporate my preferences"
   ]
  },
  {
   "cell_type": "code",
   "execution_count": 39,
   "metadata": {
    "collapsed": true
   },
   "outputs": [],
   "source": [
    "training_with_my_ratings_df = training_df.unionAll(my_ratings_df)"
   ]
  },
  {
   "cell_type": "code",
   "execution_count": 40,
   "metadata": {
    "collapsed": false
   },
   "outputs": [
    {
     "name": "stdout",
     "output_type": "stream",
     "text": [
      "+------+-------+------+\n",
      "|userId|movieId|rating|\n",
      "+------+-------+------+\n",
      "|   3.0|  318.0|   5.0|\n",
      "|   8.0|  318.0|   5.0|\n",
      "|   9.0|  318.0|   4.0|\n",
      "+------+-------+------+\n",
      "only showing top 3 rows\n",
      "\n"
     ]
    }
   ],
   "source": [
    "training_with_my_ratings_df.show(3)"
   ]
  },
  {
   "cell_type": "markdown",
   "metadata": {},
   "source": [
    "## Train a Model with your ratings"
   ]
  },
  {
   "cell_type": "code",
   "execution_count": 43,
   "metadata": {
    "collapsed": false
   },
   "outputs": [],
   "source": [
    "als = ALS(maxIter = 10, regParam = 0.1, rank = 2, \n",
    "          userCol = \"userId\", itemCol = \"movieId\", \n",
    "          ratingCol = \"rating\", \n",
    "          coldStartStrategy = \"drop\")\n",
    "als.setSeed(2017)\n",
    "final_model = als.fit(training_with_my_ratings_df)"
   ]
  },
  {
   "cell_type": "code",
   "execution_count": 44,
   "metadata": {
    "collapsed": false
   },
   "outputs": [],
   "source": [
    "# a list of my rated movie IDs\n",
    "my_rated_movie_ids = [x[1] for x in my_ratings]\n",
    "\n",
    "# filter out the movies I already rated.\n",
    "not_rated_df = movies_df.filter(~ movies_df['ID'].isin(my_rated_movie_ids))"
   ]
  },
  {
   "cell_type": "code",
   "execution_count": 45,
   "metadata": {
    "collapsed": true
   },
   "outputs": [],
   "source": [
    "# rename the \"ID\" column to be \"movieId\", and add a column with my_user_id as \"userId\".\n",
    "my_unrated_movies_df = not_rated_df.withColumn(\"userId\", F.lit(my_user_id)).withColumnRenamed(\"ID\",\"movieId\")"
   ]
  },
  {
   "cell_type": "code",
   "execution_count": 46,
   "metadata": {
    "collapsed": false
   },
   "outputs": [],
   "source": [
    "my_unrated_movies_df = my_unrated_movies_df.withColumn(\"movieId\", my_unrated_movies_df[\"movieId\"].cast(DoubleType()))"
   ]
  },
  {
   "cell_type": "code",
   "execution_count": 49,
   "metadata": {
    "collapsed": false
   },
   "outputs": [
    {
     "name": "stdout",
     "output_type": "stream",
     "text": [
      "My 5 highest rated movies as predicted:\n",
      "+-------------------------------+\n",
      "|title                          |\n",
      "+-------------------------------+\n",
      "|Squid and the Whale, The (2005)|\n",
      "|Bounce (2000)                  |\n",
      "|My Own Private Idaho (1991)    |\n",
      "|Madonna: Truth or Dare (1991)  |\n",
      "|Reds (1981)                    |\n",
      "+-------------------------------+\n",
      "only showing top 5 rows\n",
      "\n"
     ]
    }
   ],
   "source": [
    "# use my_rating_model to predict ratings for the movies that I did not manually rate.\n",
    "predictions = final_model.transform(my_unrated_movies_df)\n",
    "predicted_highest_rated_movies_df = predictions.sort(predictions.prediction,ascending = False)\n",
    "\n",
    "print ('My 5 highest rated movies as predicted:')\n",
    "predicted_highest_rated_movies_df.select('title').show(5, truncate = False)"
   ]
  },
  {
   "cell_type": "markdown",
   "metadata": {},
   "source": [
    "## Recommended moview for me\n",
    "![](files/Whale.png)"
   ]
  },
  {
   "cell_type": "markdown",
   "metadata": {},
   "source": [
    "![](files/bounce.jpeg)"
   ]
  }
 ],
 "metadata": {
  "kernelspec": {
   "display_name": "Python 3",
   "language": "python",
   "name": "python3"
  },
  "language_info": {
   "codemirror_mode": {
    "name": "ipython",
    "version": 3
   },
   "file_extension": ".py",
   "mimetype": "text/x-python",
   "name": "python",
   "nbconvert_exporter": "python",
   "pygments_lexer": "ipython3",
   "version": "3.6.0"
  }
 },
 "nbformat": 4,
 "nbformat_minor": 0
}
