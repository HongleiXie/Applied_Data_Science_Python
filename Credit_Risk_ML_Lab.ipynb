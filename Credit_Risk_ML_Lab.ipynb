{
 "cells": [
  {
   "cell_type": "markdown",
   "metadata": {},
   "source": [
    "# Credit Risk ML Use Case"
   ]
  },
  {
   "cell_type": "code",
   "execution_count": 3,
   "metadata": {
    "collapsed": false
   },
   "outputs": [],
   "source": [
    "import pandas as pd\n",
    "import numpy as np\n",
    "import matplotlib.pyplot as plt\n",
    "%matplotlib inline \n",
    "\n",
    "from sklearn.ensemble import RandomForestClassifier, GradientBoostingClassifier, AdaBoostClassifier\n",
    "from sklearn.model_selection import train_test_split\n",
    "from sklearn.metrics import roc_auc_score\n",
    "from sklearn import tree"
   ]
  },
  {
   "cell_type": "markdown",
   "metadata": {},
   "source": [
    "#### The data is coming from the [Kaggle challenge](https://www.kaggle.com/c/GiveMeSomeCredit), which requires participants to improve on the state of the art in credit scoring, by predicting the probability that somebody will experience financial distress in the next two years."
   ]
  },
  {
   "cell_type": "markdown",
   "metadata": {},
   "source": [
    "## Load Data"
   ]
  },
  {
   "cell_type": "code",
   "execution_count": 4,
   "metadata": {
    "collapsed": false
   },
   "outputs": [],
   "source": [
    "### load data\n",
    "df = pd.read_csv(\n",
    "    'cs-training.csv', \n",
    "    sep = ',',\n",
    "    header = 0)\n",
    "df = df.drop(\n",
    "    df.columns[0], \n",
    "    axis = 1)"
   ]
  },
  {
   "cell_type": "code",
   "execution_count": 5,
   "metadata": {
    "collapsed": false
   },
   "outputs": [
    {
     "data": {
      "text/plain": [
       "(150000, 11)"
      ]
     },
     "execution_count": 5,
     "metadata": {},
     "output_type": "execute_result"
    }
   ],
   "source": [
    "### shape of the data\n",
    "df.shape"
   ]
  },
  {
   "cell_type": "markdown",
   "metadata": {},
   "source": [
    "So in training dataset, we have 150000 customers with 11 predictors"
   ]
  },
  {
   "cell_type": "markdown",
   "metadata": {},
   "source": [
    "Use `SeriousDlqin2yrs` as the default label, i.e. target variable. Now check the default rate in the training dataset."
   ]
  },
  {
   "cell_type": "code",
   "execution_count": 6,
   "metadata": {
    "collapsed": false
   },
   "outputs": [
    {
     "data": {
      "text/plain": [
       "count    150000.000000\n",
       "mean          0.066840\n",
       "std           0.249746\n",
       "min           0.000000\n",
       "25%           0.000000\n",
       "50%           0.000000\n",
       "75%           0.000000\n",
       "max           1.000000\n",
       "Name: SeriousDlqin2yrs, dtype: float64"
      ]
     },
     "execution_count": 6,
     "metadata": {},
     "output_type": "execute_result"
    }
   ],
   "source": [
    "df['SeriousDlqin2yrs'].describe()"
   ]
  },
  {
   "cell_type": "markdown",
   "metadata": {},
   "source": [
    "Th default rate is 6.684%, implying this is an imbalanced classification problem. You can revisit the dataset later when we finish the discussions about the imbalanced classification topic.\n",
    "By the way, 6.684% default rate in credit card portfolio is actually much higher than the actual numbers in big banks. Therefore, in reality the degree of imbalance is even more severe."
   ]
  },
  {
   "cell_type": "markdown",
   "metadata": {},
   "source": [
    "## Data Summary"
   ]
  },
  {
   "cell_type": "code",
   "execution_count": 7,
   "metadata": {
    "collapsed": false
   },
   "outputs": [
    {
     "data": {
      "text/html": [
       "<div>\n",
       "<table border=\"1\" class=\"dataframe\">\n",
       "  <thead>\n",
       "    <tr style=\"text-align: right;\">\n",
       "      <th></th>\n",
       "      <th>SeriousDlqin2yrs</th>\n",
       "      <th>RevolvingUtilizationOfUnsecuredLines</th>\n",
       "      <th>age</th>\n",
       "      <th>NumberOfTime30-59DaysPastDueNotWorse</th>\n",
       "      <th>DebtRatio</th>\n",
       "      <th>MonthlyIncome</th>\n",
       "      <th>NumberOfOpenCreditLinesAndLoans</th>\n",
       "      <th>NumberOfTimes90DaysLate</th>\n",
       "      <th>NumberRealEstateLoansOrLines</th>\n",
       "      <th>NumberOfTime60-89DaysPastDueNotWorse</th>\n",
       "      <th>NumberOfDependents</th>\n",
       "    </tr>\n",
       "  </thead>\n",
       "  <tbody>\n",
       "    <tr>\n",
       "      <th>count</th>\n",
       "      <td>150000.00</td>\n",
       "      <td>150000.00</td>\n",
       "      <td>150000.00</td>\n",
       "      <td>150000.00</td>\n",
       "      <td>150000.00</td>\n",
       "      <td>120269.00</td>\n",
       "      <td>150000.00</td>\n",
       "      <td>150000.00</td>\n",
       "      <td>150000.00</td>\n",
       "      <td>150000.00</td>\n",
       "      <td>146076.00</td>\n",
       "    </tr>\n",
       "    <tr>\n",
       "      <th>mean</th>\n",
       "      <td>0.07</td>\n",
       "      <td>6.05</td>\n",
       "      <td>52.30</td>\n",
       "      <td>0.42</td>\n",
       "      <td>353.01</td>\n",
       "      <td>6670.22</td>\n",
       "      <td>8.45</td>\n",
       "      <td>0.27</td>\n",
       "      <td>1.02</td>\n",
       "      <td>0.24</td>\n",
       "      <td>0.76</td>\n",
       "    </tr>\n",
       "    <tr>\n",
       "      <th>std</th>\n",
       "      <td>0.25</td>\n",
       "      <td>249.76</td>\n",
       "      <td>14.77</td>\n",
       "      <td>4.19</td>\n",
       "      <td>2037.82</td>\n",
       "      <td>14384.67</td>\n",
       "      <td>5.15</td>\n",
       "      <td>4.17</td>\n",
       "      <td>1.13</td>\n",
       "      <td>4.16</td>\n",
       "      <td>1.12</td>\n",
       "    </tr>\n",
       "    <tr>\n",
       "      <th>min</th>\n",
       "      <td>0.00</td>\n",
       "      <td>0.00</td>\n",
       "      <td>0.00</td>\n",
       "      <td>0.00</td>\n",
       "      <td>0.00</td>\n",
       "      <td>0.00</td>\n",
       "      <td>0.00</td>\n",
       "      <td>0.00</td>\n",
       "      <td>0.00</td>\n",
       "      <td>0.00</td>\n",
       "      <td>0.00</td>\n",
       "    </tr>\n",
       "    <tr>\n",
       "      <th>25%</th>\n",
       "      <td>0.00</td>\n",
       "      <td>0.03</td>\n",
       "      <td>41.00</td>\n",
       "      <td>0.00</td>\n",
       "      <td>0.18</td>\n",
       "      <td>3400.00</td>\n",
       "      <td>5.00</td>\n",
       "      <td>0.00</td>\n",
       "      <td>0.00</td>\n",
       "      <td>0.00</td>\n",
       "      <td>0.00</td>\n",
       "    </tr>\n",
       "    <tr>\n",
       "      <th>50%</th>\n",
       "      <td>0.00</td>\n",
       "      <td>0.15</td>\n",
       "      <td>52.00</td>\n",
       "      <td>0.00</td>\n",
       "      <td>0.37</td>\n",
       "      <td>5400.00</td>\n",
       "      <td>8.00</td>\n",
       "      <td>0.00</td>\n",
       "      <td>1.00</td>\n",
       "      <td>0.00</td>\n",
       "      <td>0.00</td>\n",
       "    </tr>\n",
       "    <tr>\n",
       "      <th>75%</th>\n",
       "      <td>0.00</td>\n",
       "      <td>0.56</td>\n",
       "      <td>63.00</td>\n",
       "      <td>0.00</td>\n",
       "      <td>0.87</td>\n",
       "      <td>8249.00</td>\n",
       "      <td>11.00</td>\n",
       "      <td>0.00</td>\n",
       "      <td>2.00</td>\n",
       "      <td>0.00</td>\n",
       "      <td>1.00</td>\n",
       "    </tr>\n",
       "    <tr>\n",
       "      <th>max</th>\n",
       "      <td>1.00</td>\n",
       "      <td>50708.00</td>\n",
       "      <td>109.00</td>\n",
       "      <td>98.00</td>\n",
       "      <td>329664.00</td>\n",
       "      <td>3008750.00</td>\n",
       "      <td>58.00</td>\n",
       "      <td>98.00</td>\n",
       "      <td>54.00</td>\n",
       "      <td>98.00</td>\n",
       "      <td>20.00</td>\n",
       "    </tr>\n",
       "  </tbody>\n",
       "</table>\n",
       "</div>"
      ],
      "text/plain": [
       "       SeriousDlqin2yrs  RevolvingUtilizationOfUnsecuredLines        age  \\\n",
       "count         150000.00                             150000.00  150000.00   \n",
       "mean               0.07                                  6.05      52.30   \n",
       "std                0.25                                249.76      14.77   \n",
       "min                0.00                                  0.00       0.00   \n",
       "25%                0.00                                  0.03      41.00   \n",
       "50%                0.00                                  0.15      52.00   \n",
       "75%                0.00                                  0.56      63.00   \n",
       "max                1.00                              50708.00     109.00   \n",
       "\n",
       "       NumberOfTime30-59DaysPastDueNotWorse  DebtRatio  MonthlyIncome  \\\n",
       "count                             150000.00  150000.00      120269.00   \n",
       "mean                                   0.42     353.01        6670.22   \n",
       "std                                    4.19    2037.82       14384.67   \n",
       "min                                    0.00       0.00           0.00   \n",
       "25%                                    0.00       0.18        3400.00   \n",
       "50%                                    0.00       0.37        5400.00   \n",
       "75%                                    0.00       0.87        8249.00   \n",
       "max                                   98.00  329664.00     3008750.00   \n",
       "\n",
       "       NumberOfOpenCreditLinesAndLoans  NumberOfTimes90DaysLate  \\\n",
       "count                        150000.00                150000.00   \n",
       "mean                              8.45                     0.27   \n",
       "std                               5.15                     4.17   \n",
       "min                               0.00                     0.00   \n",
       "25%                               5.00                     0.00   \n",
       "50%                               8.00                     0.00   \n",
       "75%                              11.00                     0.00   \n",
       "max                              58.00                    98.00   \n",
       "\n",
       "       NumberRealEstateLoansOrLines  NumberOfTime60-89DaysPastDueNotWorse  \\\n",
       "count                     150000.00                             150000.00   \n",
       "mean                           1.02                                  0.24   \n",
       "std                            1.13                                  4.16   \n",
       "min                            0.00                                  0.00   \n",
       "25%                            0.00                                  0.00   \n",
       "50%                            1.00                                  0.00   \n",
       "75%                            2.00                                  0.00   \n",
       "max                           54.00                                 98.00   \n",
       "\n",
       "       NumberOfDependents  \n",
       "count           146076.00  \n",
       "mean                 0.76  \n",
       "std                  1.12  \n",
       "min                  0.00  \n",
       "25%                  0.00  \n",
       "50%                  0.00  \n",
       "75%                  1.00  \n",
       "max                 20.00  "
      ]
     },
     "execution_count": 7,
     "metadata": {},
     "output_type": "execute_result"
    }
   ],
   "source": [
    "### have a glance at the data summary\n",
    "df.describe().round(2)"
   ]
  },
  {
   "cell_type": "markdown",
   "metadata": {},
   "source": [
    "## Data Pre-processing"
   ]
  },
  {
   "cell_type": "markdown",
   "metadata": {},
   "source": [
    "It is ALWAYS necessary and important to do EDA (exploratory data analysis) and data cleaning before throwing data into the models. Otherwise, it could be \"garbage-in and garbage-out\". What's more, a small mistake at this level can be costly. For example, the cases where `age` = 0 should be removed. "
   ]
  },
  {
   "cell_type": "code",
   "execution_count": 8,
   "metadata": {
    "collapsed": false
   },
   "outputs": [],
   "source": [
    "df = df[df.age > 0] "
   ]
  },
  {
   "cell_type": "code",
   "execution_count": 9,
   "metadata": {
    "collapsed": false
   },
   "outputs": [
    {
     "data": {
      "text/plain": [
       "SeriousDlqin2yrs                        0.000000\n",
       "RevolvingUtilizationOfUnsecuredLines    0.000000\n",
       "age                                     0.000000\n",
       "NumberOfTime30-59DaysPastDueNotWorse    0.000000\n",
       "DebtRatio                               0.000000\n",
       "MonthlyIncome                           0.198208\n",
       "NumberOfOpenCreditLinesAndLoans         0.000000\n",
       "NumberOfTimes90DaysLate                 0.000000\n",
       "NumberRealEstateLoansOrLines            0.000000\n",
       "NumberOfTime60-89DaysPastDueNotWorse    0.000000\n",
       "NumberOfDependents                      0.026160\n",
       "dtype: float64"
      ]
     },
     "execution_count": 9,
     "metadata": {},
     "output_type": "execute_result"
    }
   ],
   "source": [
    "### check missing variables and missing percentages\n",
    "df.apply(lambda x: sum(x.isnull().values), axis = 0)/df.shape[0]"
   ]
  },
  {
   "cell_type": "markdown",
   "metadata": {},
   "source": [
    "Around 19.8% of people do not have `MonthlyIncome` (could be an issue since `MonthlyIncome` is generally believed as an important predictor). The median values by each group (i.e. default/non-default) is chosen to fill in the NAs. Be careful that in order to do it, you have to split your data into training and testing first. If you wish to impute this variable by the median value across all data, regardless of the default status, splitting is not required. (Why?)\n",
    "\n",
    "26% of samples do not have `NumberOfDependents` info. By default, we fill in 0. \n",
    "\n"
   ]
  },
  {
   "cell_type": "code",
   "execution_count": 10,
   "metadata": {
    "collapsed": false
   },
   "outputs": [],
   "source": [
    "# fill NAs\n",
    "df.NumberOfDependents = df.NumberOfDependents.fillna(0)"
   ]
  },
  {
   "cell_type": "code",
   "execution_count": 11,
   "metadata": {
    "collapsed": true
   },
   "outputs": [],
   "source": [
    "# split data into training(70%) and testing(30%); set a random seed for the sake of reproducibility\n",
    "train, test = train_test_split(df, test_size = 0.3, random_state = 2017)"
   ]
  },
  {
   "cell_type": "code",
   "execution_count": 12,
   "metadata": {
    "collapsed": false
   },
   "outputs": [],
   "source": [
    "# fill missing income by the median values in different groups\n",
    "income_med = train.groupby('SeriousDlqin2yrs')['MonthlyIncome'].transform('median')\n",
    "train_NoMissing = train.copy()\n",
    "train_NoMissing.loc[:, 'MonthlyIncome'] = train['MonthlyIncome'].fillna(income_med)\n",
    "\n",
    "\n",
    "# do the same thing for testing data\n",
    "income_med = test.groupby('SeriousDlqin2yrs')['MonthlyIncome'].transform('median')\n",
    "test_NoMissing = test.copy()\n",
    "test_NoMissing.loc[:, 'MonthlyIncome'] = test['MonthlyIncome'].fillna(income_med)"
   ]
  },
  {
   "cell_type": "code",
   "execution_count": 13,
   "metadata": {
    "collapsed": false
   },
   "outputs": [
    {
     "name": "stdout",
     "output_type": "stream",
     "text": [
      "0\n",
      "0\n"
     ]
    }
   ],
   "source": [
    "### check missing values again\n",
    "print(sum(train_NoMissing['MonthlyIncome'].isnull()))\n",
    "print(sum(test_NoMissing['MonthlyIncome'].isnull()))"
   ]
  },
  {
   "cell_type": "code",
   "execution_count": 14,
   "metadata": {
    "collapsed": false
   },
   "outputs": [],
   "source": [
    "features = np.array(['RevolvingUtilizationOfUnsecuredLines',\n",
    "                     'DebtRatio',\n",
    "                     'MonthlyIncome',\n",
    "                     'NumberOfDependents',\n",
    "                     'NumberOfOpenCreditLinesAndLoans',\n",
    "                     'NumberOfTime30-59DaysPastDueNotWorse',\n",
    "                     'NumberOfTime60-89DaysPastDueNotWorse',\n",
    "                     'NumberOfTimes90DaysLate',\n",
    "                     'NumberRealEstateLoansOrLines',\n",
    "                     'age'\n",
    "                    ])"
   ]
  },
  {
   "cell_type": "markdown",
   "metadata": {
    "collapsed": false
   },
   "source": [
    "## Random Forest"
   ]
  },
  {
   "cell_type": "code",
   "execution_count": 13,
   "metadata": {
    "collapsed": false
   },
   "outputs": [
    {
     "name": "stdout",
     "output_type": "stream",
     "text": [
      "----------RandomForest----------\n",
      "\n"
     ]
    }
   ],
   "source": [
    "print ('----------RandomForest----------\\n')\n",
    "\n",
    "rf_clf = RandomForestClassifier(\n",
    "        n_estimators = 100, # number of trees in the forest, default is 10\n",
    "        max_features = 'sqrt', # number of features to be splitted on each node\n",
    "        n_jobs = -1, # the number of jobs is set to the number of cores\n",
    "        oob_score = True, # whether to use out-of-bag samples to estimate the generalization accuracy\n",
    "        random_state = 2017,\n",
    "        class_weight = 'balanced_subsample' # to address the imbalanced issue\n",
    "        )\n",
    "    \n",
    "rf_clf.fit(train_NoMissing[features], train_NoMissing['SeriousDlqin2yrs'])\n",
    "rf_predictedValue = rf_clf.predict_proba(test_NoMissing[features]) # prediction\n",
    "\n",
    "# check the variable importance\n",
    "importance = rf_clf.feature_importances_\n",
    "importance = pd.DataFrame(importance, \n",
    "                          columns=[\"Importance\"],\n",
    "                          index = features\n",
    "                         )"
   ]
  },
  {
   "cell_type": "code",
   "execution_count": 14,
   "metadata": {
    "collapsed": false
   },
   "outputs": [
    {
     "name": "stdout",
     "output_type": "stream",
     "text": [
      "RevolvingUtilizationOfUnsecuredLines    0.240213\n",
      "DebtRatio                               0.147075\n",
      "MonthlyIncome                           0.172972\n",
      "NumberOfDependents                      0.029457\n",
      "NumberOfOpenCreditLinesAndLoans         0.069128\n",
      "NumberOfTime30-59DaysPastDueNotWorse    0.085975\n",
      "NumberOfTime60-89DaysPastDueNotWorse    0.048428\n",
      "NumberOfTimes90DaysLate                 0.080288\n",
      "NumberRealEstateLoansOrLines            0.028810\n",
      "age                                     0.097653\n",
      "Name: Importance, dtype: float64\n"
     ]
    }
   ],
   "source": [
    "print(importance.ix[:, 0])"
   ]
  },
  {
   "cell_type": "code",
   "execution_count": 15,
   "metadata": {
    "collapsed": false
   },
   "outputs": [
    {
     "data": {
      "text/plain": [
       "'AUC using Random Forest is 0.8639'"
      ]
     },
     "execution_count": 15,
     "metadata": {},
     "output_type": "execute_result"
    }
   ],
   "source": [
    "y_true = test_NoMissing['SeriousDlqin2yrs']\n",
    "y_scores = rf_predictedValue[:,1]\n",
    "'AUC using Random Forest is %.4f' % roc_auc_score(y_true, y_scores)"
   ]
  },
  {
   "cell_type": "markdown",
   "metadata": {},
   "source": [
    "## Gradient Boosting"
   ]
  },
  {
   "cell_type": "code",
   "execution_count": 16,
   "metadata": {
    "collapsed": false
   },
   "outputs": [
    {
     "name": "stdout",
     "output_type": "stream",
     "text": [
      "----------Gradient Boosting----------\n",
      "\n"
     ]
    }
   ],
   "source": [
    "print ('----------Gradient Boosting----------\\n')\n",
    "\n",
    "gb_clf = GradientBoostingClassifier(\n",
    "    n_estimators = 100, #number of boosting stages to perform\n",
    "    learning_rate = 0.01,\n",
    "    random_state = 2017,\n",
    "    max_features = 'sqrt',\n",
    "    max_depth = 3 #maximum depth of the individual regression estimators, default is 3\n",
    ")\n",
    "\n",
    "gb_clf.fit(train_NoMissing[features], train_NoMissing['SeriousDlqin2yrs'])\n",
    "gb_predictedValue = gb_clf.predict_proba(test_NoMissing[features])"
   ]
  },
  {
   "cell_type": "code",
   "execution_count": 17,
   "metadata": {
    "collapsed": false
   },
   "outputs": [
    {
     "data": {
      "text/plain": [
       "'AUC using Gradient Boosting is 0.8746'"
      ]
     },
     "execution_count": 17,
     "metadata": {},
     "output_type": "execute_result"
    }
   ],
   "source": [
    "y_scores = gb_predictedValue[:,1]\n",
    "'AUC using Gradient Boosting is %.4f' % roc_auc_score(y_true, y_scores)"
   ]
  },
  {
   "cell_type": "markdown",
   "metadata": {
    "collapsed": true
   },
   "source": [
    "## Some Exercises"
   ]
  },
  {
   "cell_type": "markdown",
   "metadata": {},
   "source": [
    "- Compute accuracy rates for both of two models above.\n",
    "- Perform feature selection by Information Value (will be covered soon)\n",
    "- Use the selected features only, tune the parameter `max_features` in random forest by cross validation. What is the final AUC and accuracy rate?\n",
    "- Use the selected features only, tune the parameters `max_depth`, `learning_rate` , `n_estimators` in gradient boosting by cross validation What is the final AUC and accuracy rate? (Hint: `sklearn` already provides you with a built-in function to do it.)\n",
    "- Repeat the process for `AdaBoost` model, how does `AdaBoost` perform compared to gradient boosting? (Hint: function `AdaBoostClassifier`)"
   ]
  },
  {
   "cell_type": "markdown",
   "metadata": {},
   "source": [
    "## Variable binning"
   ]
  },
  {
   "cell_type": "code",
   "execution_count": 13,
   "metadata": {
    "collapsed": true
   },
   "outputs": [],
   "source": [
    "# training data\n",
    "df = train_NoMissing[features]"
   ]
  },
  {
   "cell_type": "code",
   "execution_count": 15,
   "metadata": {
    "collapsed": false
   },
   "outputs": [
    {
     "data": {
      "image/png": "[encoded data removed]",
      "text/plain": [
       "<matplotlib.figure.Figure at 0x11afab748>"
      ]
     },
     "metadata": {},
     "output_type": "display_data"
    }
   ],
   "source": [
    "# feature visualization\n",
    "fig, axes = plt.subplots(len(df.columns)//2, 2, figsize = (20, 50))\n",
    "i = 0\n",
    "for triaxis in axes:\n",
    "    for axis in triaxis:\n",
    "        df.hist(column = df.columns[i], bins = 100, ax = axis)\n",
    "        i = i+1"
   ]
  },
  {
   "cell_type": "markdown",
   "metadata": {},
   "source": [
    "Data are exhibting highly-skewed distribution, indicating binning may be beneficial since it can alleviate impact that outliers/extreme values bring. "
   ]
  },
  {
   "cell_type": "markdown",
   "metadata": {
    "collapsed": true
   },
   "source": [
    "### Binning - take `MonthlyIncome` as an example "
   ]
  },
  {
   "cell_type": "code",
   "execution_count": 16,
   "metadata": {
    "collapsed": false
   },
   "outputs": [],
   "source": [
    "# quantile-based: 5%, 5%-25%, 25%-50%, 50%-80%，80%-95% ，95%+\n",
    "df = train_NoMissing\n",
    "q = [df['MonthlyIncome'].quantile(x)  for x in [0.05, 0.25, 0.5, 0.8, 0.95]]\n",
    "q = sorted(q)\n",
    "    \n",
    "def var_binning(x):\n",
    "    if x <= q[0]:\n",
    "        y = 'Very Low'\n",
    "    elif x <= q[1]:\n",
    "        y = 'Low' \n",
    "    elif x <= q[2]:\n",
    "        y = 'Below Average' \n",
    "    elif x <= q[3]:\n",
    "        y = 'Good' \n",
    "    elif x <= q[4]:\n",
    "        y = 'High' \n",
    "    else: y = 'Very High'\n",
    "        \n",
    "    return y\n",
    "        \n",
    "        \n",
    "df['MonthlyIncome_bin'] = df['MonthlyIncome'].apply(var_binning)"
   ]
  },
  {
   "cell_type": "code",
   "execution_count": 17,
   "metadata": {
    "collapsed": false
   },
   "outputs": [
    {
     "name": "stdout",
     "output_type": "stream",
     "text": [
      "[1500.0, 3900.0, 5473.0, 8275.0, 13500.299999999974]\n"
     ]
    }
   ],
   "source": [
    "print(q)"
   ]
  },
  {
   "cell_type": "code",
   "execution_count": 18,
   "metadata": {
    "collapsed": false
   },
   "outputs": [
    {
     "data": {
      "image/png": "[encoded data removed]",
      "text/plain": [
       "<matplotlib.figure.Figure at 0x11e3fab00>"
      ]
     },
     "metadata": {},
     "output_type": "display_data"
    }
   ],
   "source": [
    "# plot distribution\n",
    "temp = df.MonthlyIncome_bin.value_counts()\n",
    "temp.index = pd.CategoricalIndex(temp.index, \n",
    "                               categories = ['Very Low', 'Low', 'Below Average', 'Good', 'High', 'Very High'], \n",
    "                               sorted = True)\n",
    "temp = temp.sort_index()\n",
    "temp.plot(kind = 'bar');"
   ]
  },
  {
   "cell_type": "markdown",
   "metadata": {},
   "source": [
    "### Information Value"
   ]
  },
  {
   "cell_type": "code",
   "execution_count": 19,
   "metadata": {
    "collapsed": false
   },
   "outputs": [
    {
     "data": {
      "text/html": [
       "<div>\n",
       "<table border=\"1\" class=\"dataframe\">\n",
       "  <thead>\n",
       "    <tr style=\"text-align: right;\">\n",
       "      <th></th>\n",
       "      <th></th>\n",
       "      <th>id</th>\n",
       "    </tr>\n",
       "    <tr>\n",
       "      <th>MonthlyIncome_bin</th>\n",
       "      <th>default</th>\n",
       "      <th></th>\n",
       "    </tr>\n",
       "  </thead>\n",
       "  <tbody>\n",
       "    <tr>\n",
       "      <th rowspan=\"2\" valign=\"top\">Below Average</th>\n",
       "      <th>bad</th>\n",
       "      <td>2406</td>\n",
       "    </tr>\n",
       "    <tr>\n",
       "      <th>good</th>\n",
       "      <td>34889</td>\n",
       "    </tr>\n",
       "    <tr>\n",
       "      <th rowspan=\"2\" valign=\"top\">Good</th>\n",
       "      <th>bad</th>\n",
       "      <td>1279</td>\n",
       "    </tr>\n",
       "    <tr>\n",
       "      <th>good</th>\n",
       "      <td>19161</td>\n",
       "    </tr>\n",
       "    <tr>\n",
       "      <th rowspan=\"2\" valign=\"top\">High</th>\n",
       "      <th>bad</th>\n",
       "      <td>726</td>\n",
       "    </tr>\n",
       "    <tr>\n",
       "      <th>good</th>\n",
       "      <td>15023</td>\n",
       "    </tr>\n",
       "    <tr>\n",
       "      <th rowspan=\"2\" valign=\"top\">Low</th>\n",
       "      <th>bad</th>\n",
       "      <td>2018</td>\n",
       "    </tr>\n",
       "    <tr>\n",
       "      <th>good</th>\n",
       "      <td>18944</td>\n",
       "    </tr>\n",
       "    <tr>\n",
       "      <th rowspan=\"2\" valign=\"top\">Very High</th>\n",
       "      <th>bad</th>\n",
       "      <td>253</td>\n",
       "    </tr>\n",
       "    <tr>\n",
       "      <th>good</th>\n",
       "      <td>4997</td>\n",
       "    </tr>\n",
       "    <tr>\n",
       "      <th rowspan=\"2\" valign=\"top\">Very Low</th>\n",
       "      <th>bad</th>\n",
       "      <td>357</td>\n",
       "    </tr>\n",
       "    <tr>\n",
       "      <th>good</th>\n",
       "      <td>4946</td>\n",
       "    </tr>\n",
       "  </tbody>\n",
       "</table>\n",
       "</div>"
      ],
      "text/plain": [
       "                              id\n",
       "MonthlyIncome_bin default       \n",
       "Below Average     bad       2406\n",
       "                  good     34889\n",
       "Good              bad       1279\n",
       "                  good     19161\n",
       "High              bad        726\n",
       "                  good     15023\n",
       "Low               bad       2018\n",
       "                  good     18944\n",
       "Very High         bad        253\n",
       "                  good      4997\n",
       "Very Low          bad        357\n",
       "                  good      4946"
      ]
     },
     "execution_count": 19,
     "metadata": {},
     "output_type": "execute_result"
    }
   ],
   "source": [
    "def flag(x):\n",
    "    if x == 1: \n",
    "        y = 'bad' \n",
    "    else: \n",
    "        y = 'good'\n",
    "    return y    \n",
    "\n",
    "\n",
    "df['default'] = df['SeriousDlqin2yrs'].apply(flag)\n",
    "df['id'] = np.repeat(1, len(df))\n",
    "                 \n",
    "table = pd.pivot_table(df, index = ['MonthlyIncome_bin', 'default'],\n",
    "                       values = ['id'], aggfunc = 'count')\n",
    "table"
   ]
  },
  {
   "cell_type": "code",
   "execution_count": 20,
   "metadata": {
    "collapsed": false
   },
   "outputs": [],
   "source": [
    "# column sums\n",
    "colSums = df.groupby('default').id.sum()"
   ]
  },
  {
   "cell_type": "code",
   "execution_count": 21,
   "metadata": {
    "collapsed": false
   },
   "outputs": [
    {
     "data": {
      "text/html": [
       "<div>\n",
       "<table border=\"1\" class=\"dataframe\">\n",
       "  <thead>\n",
       "    <tr style=\"text-align: right;\">\n",
       "      <th></th>\n",
       "      <th></th>\n",
       "      <th>id</th>\n",
       "      <th>Sum</th>\n",
       "    </tr>\n",
       "    <tr>\n",
       "      <th>MonthlyIncome_bin</th>\n",
       "      <th>default</th>\n",
       "      <th></th>\n",
       "      <th></th>\n",
       "    </tr>\n",
       "  </thead>\n",
       "  <tbody>\n",
       "    <tr>\n",
       "      <th rowspan=\"2\" valign=\"top\">Below Average</th>\n",
       "      <th>bad</th>\n",
       "      <td>2406</td>\n",
       "      <td>7039</td>\n",
       "    </tr>\n",
       "    <tr>\n",
       "      <th>good</th>\n",
       "      <td>34889</td>\n",
       "      <td>97960</td>\n",
       "    </tr>\n",
       "    <tr>\n",
       "      <th rowspan=\"2\" valign=\"top\">Good</th>\n",
       "      <th>bad</th>\n",
       "      <td>1279</td>\n",
       "      <td>7039</td>\n",
       "    </tr>\n",
       "    <tr>\n",
       "      <th>good</th>\n",
       "      <td>19161</td>\n",
       "      <td>97960</td>\n",
       "    </tr>\n",
       "    <tr>\n",
       "      <th rowspan=\"2\" valign=\"top\">High</th>\n",
       "      <th>bad</th>\n",
       "      <td>726</td>\n",
       "      <td>7039</td>\n",
       "    </tr>\n",
       "    <tr>\n",
       "      <th>good</th>\n",
       "      <td>15023</td>\n",
       "      <td>97960</td>\n",
       "    </tr>\n",
       "    <tr>\n",
       "      <th rowspan=\"2\" valign=\"top\">Low</th>\n",
       "      <th>bad</th>\n",
       "      <td>2018</td>\n",
       "      <td>7039</td>\n",
       "    </tr>\n",
       "    <tr>\n",
       "      <th>good</th>\n",
       "      <td>18944</td>\n",
       "      <td>97960</td>\n",
       "    </tr>\n",
       "    <tr>\n",
       "      <th rowspan=\"2\" valign=\"top\">Very High</th>\n",
       "      <th>bad</th>\n",
       "      <td>253</td>\n",
       "      <td>7039</td>\n",
       "    </tr>\n",
       "    <tr>\n",
       "      <th>good</th>\n",
       "      <td>4997</td>\n",
       "      <td>97960</td>\n",
       "    </tr>\n",
       "    <tr>\n",
       "      <th rowspan=\"2\" valign=\"top\">Very Low</th>\n",
       "      <th>bad</th>\n",
       "      <td>357</td>\n",
       "      <td>7039</td>\n",
       "    </tr>\n",
       "    <tr>\n",
       "      <th>good</th>\n",
       "      <td>4946</td>\n",
       "      <td>97960</td>\n",
       "    </tr>\n",
       "  </tbody>\n",
       "</table>\n",
       "</div>"
      ],
      "text/plain": [
       "                              id    Sum\n",
       "MonthlyIncome_bin default              \n",
       "Below Average     bad       2406   7039\n",
       "                  good     34889  97960\n",
       "Good              bad       1279   7039\n",
       "                  good     19161  97960\n",
       "High              bad        726   7039\n",
       "                  good     15023  97960\n",
       "Low               bad       2018   7039\n",
       "                  good     18944  97960\n",
       "Very High         bad        253   7039\n",
       "                  good      4997  97960\n",
       "Very Low          bad        357   7039\n",
       "                  good      4946  97960"
      ]
     },
     "execution_count": 21,
     "metadata": {},
     "output_type": "execute_result"
    }
   ],
   "source": [
    "colSums = pd.DataFrame(colSums)\n",
    "colSums.columns = ['Sum']\n",
    "newdf = pd.merge(table, colSums, left_index = True, right_index = True)\n",
    "# check out the pivot table\n",
    "newdf"
   ]
  },
  {
   "cell_type": "code",
   "execution_count": 22,
   "metadata": {
    "collapsed": false
   },
   "outputs": [],
   "source": [
    "newdf['dis'] = newdf['id']/newdf['Sum']"
   ]
  },
  {
   "cell_type": "code",
   "execution_count": 23,
   "metadata": {
    "collapsed": false
   },
   "outputs": [],
   "source": [
    "#def WoE(x, newdf):\n",
    "#    return (np.log(newdf.loc[x, 'good'].dis)/np.log(newdf.loc[x, 'bad'].dis))*100"
   ]
  },
  {
   "cell_type": "code",
   "execution_count": 24,
   "metadata": {
    "collapsed": false
   },
   "outputs": [],
   "source": [
    "#gps = newdf.index.levels[0].values\n",
    "#gps = sorted(gps)\n",
    "#woe = [WoE(x = x, newdf = newdf)  for x in gps]\n",
    "#woe = pd.DataFrame(woe, index = gps, columns = ['woe'])"
   ]
  },
  {
   "cell_type": "code",
   "execution_count": 25,
   "metadata": {
    "collapsed": false
   },
   "outputs": [],
   "source": [
    "#woe = woe.reindex(index = newdf.index, level = 0)"
   ]
  },
  {
   "cell_type": "code",
   "execution_count": 26,
   "metadata": {
    "collapsed": false
   },
   "outputs": [],
   "source": [
    "#newdf = pd.merge(newdf, woe, left_index = True, right_index = True)"
   ]
  },
  {
   "cell_type": "markdown",
   "metadata": {},
   "source": [
    "#### compute IV"
   ]
  },
  {
   "cell_type": "code",
   "execution_count": 27,
   "metadata": {
    "collapsed": false
   },
   "outputs": [],
   "source": [
    "def compute_IV(x, newdf):\n",
    "    dis_good = newdf.loc[x, 'good'].dis\n",
    "    dis_bad = newdf.loc[x, 'bad'].dis\n",
    "    iv = (dis_good-dis_bad)*np.log(dis_good/dis_bad)\n",
    "    return iv\n",
    "    \n",
    "gps = newdf.index.levels[0].values    \n",
    "IV = sum([compute_IV(x = x, newdf = newdf)  for x in gps])"
   ]
  },
  {
   "cell_type": "code",
   "execution_count": 28,
   "metadata": {
    "collapsed": false
   },
   "outputs": [
    {
     "data": {
      "text/plain": [
       "0.063546945470747088"
      ]
     },
     "execution_count": 28,
     "metadata": {},
     "output_type": "execute_result"
    }
   ],
   "source": [
    "IV"
   ]
  },
  {
   "cell_type": "markdown",
   "metadata": {},
   "source": [
    "### Discussions"
   ]
  },
  {
   "cell_type": "markdown",
   "metadata": {
    "collapsed": true
   },
   "source": [
    "- `MonthlyIncome` seems to be a weak predictor according to its IV ~ 0.06\n",
    "- Different ways to binning this variable lead to different conclusion.\n",
    "- Rule of thumb: the final binned varaible distribution should make *business* sense. So visualization comes to play an important role here. (Part of the reason why banks are choosing Xeno because its interactive visualization allow analysts to explore the dynamics of a model’s score distribution and its separation strength.)\n",
    "- Instead of quantile-based binning method, you may want to try the decision-tree based binning rule."
   ]
  },
  {
   "cell_type": "markdown",
   "metadata": {},
   "source": [
    "## Use the model"
   ]
  },
  {
   "cell_type": "markdown",
   "metadata": {},
   "source": [
    "- Who are using our model?\n",
    "- Pass the model output to each product's strategy team to help them make more informed business decisions.\n"
   ]
  },
  {
   "cell_type": "markdown",
   "metadata": {},
   "source": [
    "## Model validation"
   ]
  },
  {
   "cell_type": "markdown",
   "metadata": {},
   "source": [
    "- Each model is subject to approval by senior management, internal and external model validation/auditor.\n",
    "- Backtesting is a crucial step to prove our model.\n",
    "- How? Test on scoring applications and accounts from the past and measure model performance on metrics like Kolomogorov Smirnov statistic (K-S), Area under ROC curve (AUC).\n",
    "- A decent scorecard model should have good backtesting performance.\n",
    "- Sometimes we also leverage the backtesting performance to calibrate the model coefficients."
   ]
  }
 ],
 "metadata": {
  "kernelspec": {
   "display_name": "Python 3",
   "language": "python",
   "name": "python3"
  },
  "language_info": {
   "codemirror_mode": {
    "name": "ipython",
    "version": 3
   },
   "file_extension": ".py",
   "mimetype": "text/x-python",
   "name": "python",
   "nbconvert_exporter": "python",
   "pygments_lexer": "ipython3",
   "version": "3.6.0"
  }
 },
 "nbformat": 4,
 "nbformat_minor": 0
}
