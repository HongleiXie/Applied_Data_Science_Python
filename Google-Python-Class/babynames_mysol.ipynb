{
 "cells": [
  {
   "cell_type": "code",
   "execution_count": null,
   "metadata": {
    "collapsed": true
   },
   "outputs": [],
   "source": [
    "#!/usr/bin/python\n",
    "# Copyright 2010 Google Inc.\n",
    "# Licensed under the Apache License, Version 2.0\n",
    "# http://www.apache.org/licenses/LICENSE-2.0\n",
    "\n",
    "# Google's Python Class\n",
    "# http://code.google.com/edu/languages/google-python-class/\n",
    "\n",
    "import sys\n",
    "import re\n",
    "\n",
    "\"\"\"Baby Names exercise\n",
    "\n",
    "Define the extract_names() function below and change main()\n",
    "to call it.\n",
    "\n",
    "For writing regex, it's nice to include a copy of the target\n",
    "text for inspiration.\n",
    "\n",
    "Here's what the html looks like in the baby.html files:\n",
    "...\n",
    "<h3 align=\"center\">Popularity in 1990</h3>\n",
    "....\n",
    "<tr align=\"right\"><td>1</td><td>Michael</td><td>Jessica</td>\n",
    "<tr align=\"right\"><td>2</td><td>Christopher</td><td>Ashley</td>\n",
    "<tr align=\"right\"><td>3</td><td>Matthew</td><td>Brittany</td>\n",
    "...\n",
    "\n",
    "Suggested milestones for incremental development:\n",
    " -Extract the year and print it\n",
    " -Extract the names and rank numbers and just print them\n",
    " -Get the names data into a dict and print it\n",
    " -Build the [year, 'name rank', ... ] list and print it\n",
    " -Fix main() to use the extract_names list\n",
    "\"\"\"\n",
    "\n",
    "def extract_names(filename):\n",
    "  \"\"\"\n",
    "  Given a file name for baby.html, returns a list starting with the year string\n",
    "  followed by the name-rank strings in alphabetical order.\n",
    "  ['2006', 'Aaliyah 91', Aaron 57', 'Abagail 895', ' ...]\n",
    "  \"\"\"\n",
    "  \n",
    "    return\n"
   ]
  },
  {
   "cell_type": "code",
   "execution_count": 51,
   "metadata": {
    "collapsed": false
   },
   "outputs": [],
   "source": [
    "import sys\n",
    "import re\n",
    "\n",
    "# final list result\n",
    "final = []\n",
    "\n",
    "f = open(\"baby1990.html\", 'r')\n",
    "text = f.read()\n",
    "\n",
    "year = re.search(r'Popularity in (\\d\\d\\d\\d)', text)\n",
    "year = year.group(1)\n",
    "\n",
    "final.append(year)\n",
    "\n",
    "# each tuple is: (rank, boy-name, girl-name)\n",
    "tuples = re.findall(r\"<td>(\\d+)</td><td>(\\w+)</td><td>(\\w+)</td>\", text)\n",
    "\n",
    "\n",
    "names_to_rank =  {}\n",
    "for rank_tuple in tuples:\n",
    "    (rank, boyname, girlname) = rank_tuple  # unpack the tuple into 3 vars\n",
    "    if boyname not in names_to_rank:\n",
    "        names_to_rank[boyname] = rank\n",
    "    if girlname not in names_to_rank:\n",
    "        names_to_rank[girlname] = rank\n",
    "\n",
    "#sort the dic's keys(i.e baby names)\n",
    "sorted_names = sorted(names_to_rank.keys())\n",
    "\n",
    "#append to the list\n",
    "for name in sorted_names:\n",
    "    final.append(name + \" \" + names_to_rank[name])\n",
    "\n",
    "#final    "
   ]
  },
  {
   "cell_type": "code",
   "execution_count": null,
   "metadata": {
    "collapsed": true
   },
   "outputs": [],
   "source": []
  }
 ],
 "metadata": {
  "kernelspec": {
   "display_name": "Python 3",
   "language": "python",
   "name": "python3"
  },
  "language_info": {
   "codemirror_mode": {
    "name": "ipython",
    "version": 3
   },
   "file_extension": ".py",
   "mimetype": "text/x-python",
   "name": "python",
   "nbconvert_exporter": "python",
   "pygments_lexer": "ipython3",
   "version": "3.6.0"
  }
 },
 "nbformat": 4,
 "nbformat_minor": 2
}
