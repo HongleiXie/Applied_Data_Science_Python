{
 "cells": [
  {
   "cell_type": "code",
   "execution_count": 112,
   "metadata": {
    "collapsed": true
   },
   "outputs": [],
   "source": [
    "import sys"
   ]
  },
  {
   "cell_type": "code",
   "execution_count": 113,
   "metadata": {
    "collapsed": false
   },
   "outputs": [
    {
     "data": {
      "text/plain": [
       "'I want 42 copies of garfield'"
      ]
     },
     "execution_count": 113,
     "metadata": {},
     "output_type": "execute_result"
    }
   ],
   "source": [
    "hash = {}\n",
    "hash['word'] = 'garfield'\n",
    "hash['count'] = 42\n",
    "'I want %(count)d copies of %(word)s' % hash  \n",
    "# %d for int, %s for string"
   ]
  },
  {
   "cell_type": "code",
   "execution_count": 114,
   "metadata": {
    "collapsed": false
   },
   "outputs": [
    {
     "data": {
      "text/plain": [
       "{'a': 1, 'c': 3}"
      ]
     },
     "execution_count": 114,
     "metadata": {},
     "output_type": "execute_result"
    }
   ],
   "source": [
    "dict = {'a':1, 'b':2, 'c':3}\n",
    "del dict['b']\n",
    "dict"
   ]
  },
  {
   "cell_type": "code",
   "execution_count": 118,
   "metadata": {
    "collapsed": false
   },
   "outputs": [
    {
     "name": "stdout",
     "output_type": "stream",
     "text": [
      "the 1605\n",
      "and 766\n",
      "to 706\n",
      "a 614\n",
      "she 518\n",
      "of 493\n",
      "said 421\n",
      "it 362\n",
      "in 352\n",
      "was 333\n",
      "you 265\n",
      "i 261\n",
      "as 249\n",
      "that 222\n",
      "alice 221\n",
      "her 208\n",
      "at 206\n",
      "had 176\n",
      "with 169\n",
      "all 155\n"
     ]
    }
   ],
   "source": [
    "# Echo the contents of a file\n",
    "f = open('alice.txt', 'r')\n",
    "words_count = {} # key is the word, value is the word count\n",
    "\n",
    "for line in f:\n",
    "    words = line.split()\n",
    "    for word in words:\n",
    "        word = word.lower()\n",
    "        if word in words_count:\n",
    "            words_count[word] += 1\n",
    "        else:\n",
    "            words_count[word] = 1\n",
    "            \n",
    "s = [(k, words_count[k]) for k in sorted(words_count, key = words_count.get, reverse = True)]\n",
    "\n",
    "# print the first 20 high freq words\n",
    "for item in s[:20]:\n",
    "    print (item[0], item[1])\n",
    "\n",
    "# print words, in the order of keys\n",
    "#words = sorted(words_count.keys())\n",
    "#for word in words:\n",
    "#    print (word, words_count[word])\n",
    "\n",
    "    \n",
    "f.close()"
   ]
  }
 ],
 "metadata": {
  "kernelspec": {
   "display_name": "Python 3",
   "language": "python",
   "name": "python3"
  },
  "language_info": {
   "codemirror_mode": {
    "name": "ipython",
    "version": 3
   },
   "file_extension": ".py",
   "mimetype": "text/x-python",
   "name": "python",
   "nbconvert_exporter": "python",
   "pygments_lexer": "ipython3",
   "version": "3.6.0"
  }
 },
 "nbformat": 4,
 "nbformat_minor": 2
}
